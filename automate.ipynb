{
  "nbformat": 4,
  "nbformat_minor": 0,
  "metadata": {
    "colab": {
      "name": "automate.ipynb",
      "provenance": [],
      "include_colab_link": true
    },
    "kernelspec": {
      "name": "python3",
      "display_name": "Python 3"
    }
  },
  "cells": [
    {
      "cell_type": "markdown",
      "metadata": {
        "id": "view-in-github",
        "colab_type": "text"
      },
      "source": [
        "<a href=\"https://colab.research.google.com/github/souravs17031999/Youtube_data_download_automate/blob/master/automate.ipynb\" target=\"_parent\"><img src=\"https://colab.research.google.com/assets/colab-badge.svg\" alt=\"Open In Colab\"/></a>"
      ]
    },
    {
      "cell_type": "markdown",
      "metadata": {
        "id": "REdNI2fgzTz4",
        "colab_type": "text"
      },
      "source": [
        "# Automate stuff with python"
      ]
    },
    {
      "cell_type": "code",
      "metadata": {
        "id": "emVU9WUnzdCv",
        "colab_type": "code",
        "colab": {
          "base_uri": "https://localhost:8080/",
          "height": 87
        },
        "outputId": "5ea36450-9d07-4aec-b050-998ccb27dc42"
      },
      "source": [
        "!pip install pytube\n"
      ],
      "execution_count": 2,
      "outputs": [
        {
          "output_type": "stream",
          "text": [
            "Collecting pytube\n",
            "  Downloading https://files.pythonhosted.org/packages/1b/ba/9ef6d885d48e7a4305772471f41dc74cae080487e99aa617f27ec9e4f3d7/pytube-9.5.2-py3-none-any.whl\n",
            "Installing collected packages: pytube\n",
            "Successfully installed pytube-9.5.2\n"
          ],
          "name": "stdout"
        }
      ]
    },
    {
      "cell_type": "code",
      "metadata": {
        "id": "DdIySJjhzJbw",
        "colab_type": "code",
        "colab": {}
      },
      "source": [
        "from pytube import YouTube \n",
        "  \n",
        "#where to save \n",
        "SAVE_PATH = \"E:/\" #to_do \n",
        "  \n",
        "#link of the video to be downloaded \n",
        "link=[\"https://www.youtube.com/watch?v=xWOoBJUqlbI\", \n",
        "      \"https://www.youtube.com/watch?v=xWOoBJUqlbI\"\n",
        "     ]#list of youtube links which need to be downloaded \n",
        "for i in link: \n",
        "    try: \n",
        "        #object creation using YouTube which was imported in the beginning \n",
        "        yt = YouTube(i) \n",
        "    except: \n",
        "        print(\"Connection Error\") #to handle exception \n",
        "      \n",
        "    #filters out all the files with \"mp4\" extension \n",
        "    mp4files = yt.filter('mp4') \n",
        "  \n",
        "    #get the video with the extension and resolution passed in the get() function \n",
        "    d_video = yt.get(mp4files[-1].extension,mp4files[-1].resolution) \n",
        "    try: \n",
        "        #downloading the video \n",
        "        d_video.download(SAVE_PATH) \n",
        "    except: \n",
        "        print(\"Some Error!\") \n",
        "print('Task Completed!') "
      ],
      "execution_count": 0,
      "outputs": []
    },
    {
      "cell_type": "code",
      "metadata": {
        "id": "OPazwFvwzrMc",
        "colab_type": "code",
        "colab": {}
      },
      "source": [
        "import urllib.request\n",
        "import urllib.error\n",
        "import re\n",
        "import sys\n",
        "import time\n",
        "import os\n",
        "import pipes\n",
        "\n",
        "def video_to_audio(fileName):\n",
        "\ttry:\n",
        "\t\tfile, file_extension = os.path.splitext(fileName)\n",
        "\t\tfile = pipes.quote(file)\n",
        "\t\tvideo_to_wav = 'ffmpeg -i ' + file + file_extension + ' ' + file + '.wav'\n",
        "\t\tfinal_audio = 'lame '+ file + '.wav' + ' ' + file + '.mp3'\n",
        "\t\tos.system(video_to_wav)\n",
        "\t\tos.system(final_audio)\n",
        "\t\t#file=pipes.quote(file)\n",
        "\t\t#os.remove(file + '.wav')\n",
        "\t\tprint(\"sucessfully converted \", fileName, \" into audio!\")\n",
        "\texcept OSError as err:\n",
        "\t\tprint(err.reason)\n",
        "\t\texit(1)\n",
        "\n",
        "def main():\n",
        "\tif len(sys.argv) <1 or len(sys.argv) > 2:\n",
        "\t\tprint('command usage: python3 video_to_audio.py FileName')\n",
        "\t\texit(1)\n",
        "\telse:\n",
        "\t\tfilePath = sys.argv[1]\n",
        "\t\t# check if the specified file exists or not\n",
        "\t\ttry:\n",
        "\t\t\tif os.path.exists(filePath):\n",
        "\t\t\t\tprint(\"file found!\")\n",
        "\t\texcept OSError as err:\n",
        "\t\t\tprint(err.reason)\n",
        "\t\t\texit(1)\n",
        "\t\t# convert video to audio\n",
        "\t\tvideo_to_audio(filePath)\n",
        "\t\ttime.sleep(1)\n",
        "\t\t\n",
        "# install ffmpeg and/or lame if you get an error saying that the program is currently not installed \n",
        "if __name__ == '__main__':\n",
        "\tmain()"
      ],
      "execution_count": 0,
      "outputs": []
    },
    {
      "cell_type": "code",
      "metadata": {
        "id": "aiqdAmlU0Fon",
        "colab_type": "code",
        "colab": {}
      },
      "source": [
        ""
      ],
      "execution_count": 0,
      "outputs": []
    }
  ]
}